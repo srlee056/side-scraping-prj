{
 "cells": [
  {
   "cell_type": "markdown",
   "id": "7e05abd7-635d-4aa3-82b7-1375b869820f",
   "metadata": {},
   "source": [
    "# 네이버 예약 페이지 scraping\n",
    "- Selenium 활용\n",
    "- 링크를 입력 받고, 가능한 가장 빠른 시간/날짜 리스트를 출력"
   ]
  },
  {
   "cell_type": "code",
   "execution_count": 7,
   "id": "7f5b9a8f-6f60-4980-9be4-5bc366623c43",
   "metadata": {
    "scrolled": true
   },
   "outputs": [
    {
     "name": "stdout",
     "output_type": "stream",
     "text": [
      "Requirement already satisfied: pyperclip in /usr/local/lib/python3.11/site-packages (1.8.2)\n",
      "Note: you may need to restart the kernel to use updated packages.\n",
      "Collecting pyautogui\n",
      "  Downloading PyAutoGUI-0.9.54.tar.gz (61 kB)\n",
      "\u001b[2K     \u001b[38;2;114;156;31m━━━━━━━━━━━━━━━━━━━━━━━━━━━━━━━━━━━━━━━━\u001b[0m \u001b[32m61.2/61.2 kB\u001b[0m \u001b[31m1.5 MB/s\u001b[0m eta \u001b[36m0:00:00\u001b[0m\n",
      "\u001b[?25h  Installing build dependencies ... \u001b[?25ldone\n",
      "\u001b[?25h  Getting requirements to build wheel ... \u001b[?25ldone\n",
      "\u001b[?25h  Preparing metadata (pyproject.toml) ... \u001b[?25ldone\n",
      "\u001b[?25hCollecting pymsgbox (from pyautogui)\n",
      "  Downloading PyMsgBox-1.0.9.tar.gz (18 kB)\n",
      "  Installing build dependencies ... \u001b[?25ldone\n",
      "\u001b[?25h  Getting requirements to build wheel ... \u001b[?25ldone\n",
      "\u001b[?25h  Preparing metadata (pyproject.toml) ... \u001b[?25ldone\n",
      "\u001b[?25hCollecting pytweening>=1.0.4 (from pyautogui)\n",
      "  Downloading pytweening-1.0.7.tar.gz (168 kB)\n",
      "\u001b[2K     \u001b[38;2;114;156;31m━━━━━━━━━━━━━━━━━━━━━━━━━━━━━━━━━━━━━━━\u001b[0m \u001b[32m168.2/168.2 kB\u001b[0m \u001b[31m6.4 MB/s\u001b[0m eta \u001b[36m0:00:00\u001b[0m\n",
      "\u001b[?25h  Preparing metadata (setup.py) ... \u001b[?25ldone\n",
      "\u001b[?25hCollecting pyscreeze>=0.1.21 (from pyautogui)\n",
      "  Downloading PyScreeze-0.1.30.tar.gz (27 kB)\n",
      "  Installing build dependencies ... \u001b[?25ldone\n",
      "\u001b[?25h  Getting requirements to build wheel ... \u001b[?25ldone\n",
      "\u001b[?25h  Preparing metadata (pyproject.toml) ... \u001b[?25ldone\n",
      "\u001b[?25hCollecting pygetwindow>=0.0.5 (from pyautogui)\n",
      "  Downloading PyGetWindow-0.0.9.tar.gz (9.7 kB)\n",
      "  Preparing metadata (setup.py) ... \u001b[?25ldone\n",
      "\u001b[?25hCollecting mouseinfo (from pyautogui)\n",
      "  Downloading MouseInfo-0.1.3.tar.gz (10 kB)\n",
      "  Preparing metadata (setup.py) ... \u001b[?25ldone\n",
      "\u001b[?25hCollecting pyobjc-core (from pyautogui)\n",
      "  Downloading pyobjc_core-10.0-cp311-cp311-macosx_10_9_universal2.whl.metadata (2.5 kB)\n",
      "Collecting pyobjc-framework-quartz (from pyautogui)\n",
      "  Downloading pyobjc_framework_Quartz-10.0-cp311-cp311-macosx_10_9_universal2.whl.metadata (3.3 kB)\n",
      "Collecting pyrect (from pygetwindow>=0.0.5->pyautogui)\n",
      "  Downloading PyRect-0.2.0.tar.gz (17 kB)\n",
      "  Preparing metadata (setup.py) ... \u001b[?25ldone\n",
      "\u001b[?25hRequirement already satisfied: Pillow>=9.3.0 in /usr/local/lib/python3.11/site-packages (from pyscreeze>=0.1.21->pyautogui) (10.1.0)\n",
      "Collecting rubicon-objc (from mouseinfo->pyautogui)\n",
      "  Downloading rubicon_objc-0.4.7-py3-none-any.whl.metadata (5.4 kB)\n",
      "Requirement already satisfied: pyperclip in /usr/local/lib/python3.11/site-packages (from mouseinfo->pyautogui) (1.8.2)\n",
      "Collecting pyobjc-framework-Cocoa>=10.0 (from pyobjc-framework-quartz->pyautogui)\n",
      "  Downloading pyobjc_framework_Cocoa-10.0-cp311-cp311-macosx_10_9_universal2.whl.metadata (2.2 kB)\n",
      "Downloading pyobjc_core-10.0-cp311-cp311-macosx_10_9_universal2.whl (738 kB)\n",
      "\u001b[2K   \u001b[38;2;114;156;31m━━━━━━━━━━━━━━━━━━━━━━━━━━━━━━━━━━━━━━━━\u001b[0m \u001b[32m738.6/738.6 kB\u001b[0m \u001b[31m8.7 MB/s\u001b[0m eta \u001b[36m0:00:00\u001b[0m0m eta \u001b[36m0:00:01\u001b[0m[36m0:00:01\u001b[0m\n",
      "\u001b[?25hDownloading pyobjc_framework_Quartz-10.0-cp311-cp311-macosx_10_9_universal2.whl (230 kB)\n",
      "\u001b[2K   \u001b[38;2;114;156;31m━━━━━━━━━━━━━━━━━━━━━━━━━━━━━━━━━━━━━━━━\u001b[0m \u001b[32m230.6/230.6 kB\u001b[0m \u001b[31m5.8 MB/s\u001b[0m eta \u001b[36m0:00:00\u001b[0m\u001b[36m0:00:01\u001b[0m\n",
      "\u001b[?25hDownloading pyobjc_framework_Cocoa-10.0-cp311-cp311-macosx_10_9_universal2.whl (391 kB)\n",
      "\u001b[2K   \u001b[38;2;114;156;31m━━━━━━━━━━━━━━━━━━━━━━━━━━━━━━━━━━━━━━━━\u001b[0m \u001b[32m391.2/391.2 kB\u001b[0m \u001b[31m8.6 MB/s\u001b[0m eta \u001b[36m0:00:00\u001b[0m0m eta \u001b[36m0:00:01\u001b[0m\n",
      "\u001b[?25hDownloading rubicon_objc-0.4.7-py3-none-any.whl (61 kB)\n",
      "\u001b[2K   \u001b[38;2;114;156;31m━━━━━━━━━━━━━━━━━━━━━━━━━━━━━━━━━━━━━━━━\u001b[0m \u001b[32m61.9/61.9 kB\u001b[0m \u001b[31m2.9 MB/s\u001b[0m eta \u001b[36m0:00:00\u001b[0m\n",
      "\u001b[?25hBuilding wheels for collected packages: pyautogui, pygetwindow, pyscreeze, pytweening, mouseinfo, pymsgbox, pyrect\n",
      "  Building wheel for pyautogui (pyproject.toml) ... \u001b[?25ldone\n",
      "\u001b[?25h  Created wheel for pyautogui: filename=PyAutoGUI-0.9.54-py3-none-any.whl size=37578 sha256=53324502823a20dd8dc0e725435c4b1b902522278f138b426b02bca8b67cc7b6\n",
      "  Stored in directory: /Users/sarah/Library/Caches/pip/wheels/95/dc/b1/fe122b791e0db8bf439a0e6e1d2628e48f10bf430cae13521b\n",
      "  Building wheel for pygetwindow (setup.py) ... \u001b[?25ldone\n",
      "\u001b[?25h  Created wheel for pygetwindow: filename=PyGetWindow-0.0.9-py3-none-any.whl size=11064 sha256=55c9a8e13429af3a6bf3924fd655f7c1673db9fab5c18b3737716b32c2527b0d\n",
      "  Stored in directory: /Users/sarah/Library/Caches/pip/wheels/07/75/0b/7ca0b598eb4c21d43ba4bcc78a0538dfcf803a5997da33bc19\n",
      "  Building wheel for pyscreeze (pyproject.toml) ... \u001b[?25ldone\n",
      "\u001b[?25h  Created wheel for pyscreeze: filename=PyScreeze-0.1.30-py3-none-any.whl size=14383 sha256=0b453e54c06a66468f7130ce983ffa95fbb230830f98b7927b874e8e58584a58\n",
      "  Stored in directory: /Users/sarah/Library/Caches/pip/wheels/df/bc/15/d685ca085ca4b11e46e54cc3da4e501a98856c7fea8f604500\n",
      "  Building wheel for pytweening (setup.py) ... \u001b[?25ldone\n",
      "\u001b[?25h  Created wheel for pytweening: filename=pytweening-1.0.7-py3-none-any.whl size=6197 sha256=f0f8f6c49daf07c0fb284edaee3419736d758d802d75cede4d7ada816a17bf23\n",
      "  Stored in directory: /Users/sarah/Library/Caches/pip/wheels/b2/9b/02/059beba389e7e31a635bd9e8d9b7299f4ec11caca1f237f56d\n",
      "  Building wheel for mouseinfo (setup.py) ... \u001b[?25ldone\n",
      "\u001b[?25h  Created wheel for mouseinfo: filename=MouseInfo-0.1.3-py3-none-any.whl size=10890 sha256=7c7b4e2baa6ad15deeebc4d8b79f8800627e0cda07130faeae309b823f182d7b\n",
      "  Stored in directory: /Users/sarah/Library/Caches/pip/wheels/20/0b/7f/939ac9ff785b09951c706150537572c00123412f260a6024f3\n",
      "  Building wheel for pymsgbox (pyproject.toml) ... \u001b[?25ldone\n",
      "\u001b[?25h  Created wheel for pymsgbox: filename=PyMsgBox-1.0.9-py3-none-any.whl size=7406 sha256=dde840909ceeccdde01589358260c398447e0d1c894b48b1c02112b29d42c2b4\n",
      "  Stored in directory: /Users/sarah/Library/Caches/pip/wheels/85/92/63/e126ee5f33d8f2ed04f96e43ef5df7270a2f331848752e8662\n",
      "  Building wheel for pyrect (setup.py) ... \u001b[?25ldone\n",
      "\u001b[?25h  Created wheel for pyrect: filename=PyRect-0.2.0-py2.py3-none-any.whl size=11179 sha256=41db16a95e903c6a78a19c3dfae8e04ddc996d08eb42b1a933a4a6ca8de6a577\n",
      "  Stored in directory: /Users/sarah/Library/Caches/pip/wheels/c4/e9/fc/b7a666dd4f9a3168fb44d643079b41d36ddab52f470707e820\n",
      "Successfully built pyautogui pygetwindow pyscreeze pytweening mouseinfo pymsgbox pyrect\n",
      "Installing collected packages: pytweening, pyrect, pymsgbox, rubicon-objc, pyscreeze, pyobjc-core, pygetwindow, pyobjc-framework-Cocoa, mouseinfo, pyobjc-framework-quartz, pyautogui\n",
      "Successfully installed mouseinfo-0.1.3 pyautogui-0.9.54 pygetwindow-0.0.9 pymsgbox-1.0.9 pyobjc-core-10.0 pyobjc-framework-Cocoa-10.0 pyobjc-framework-quartz-10.0 pyrect-0.2.0 pyscreeze-0.1.30 pytweening-1.0.7 rubicon-objc-0.4.7\n",
      "Note: you may need to restart the kernel to use updated packages.\n"
     ]
    }
   ],
   "source": [
    "%pip install pyperclip\n",
    "%pip install pyautogui"
   ]
  },
  {
   "cell_type": "code",
   "execution_count": 2,
   "id": "1376b833-5fef-4155-a19b-8a33a25b4da0",
   "metadata": {},
   "outputs": [],
   "source": [
    "import datetime as dt\n",
    "import time\n",
    "\n",
    "import pyautogui\n",
    "import pyperclip\n",
    "from selenium import webdriver\n",
    "from selenium.webdriver import ActionChains, Keys\n",
    "from selenium.webdriver.chrome.service import Service\n",
    "from selenium.webdriver.common.actions.action_builder import ActionBuilder\n",
    "from selenium.webdriver.common.by import By\n",
    "from webdriver_manager.chrome import ChromeDriverManager"
   ]
  },
  {
   "cell_type": "markdown",
   "id": "cefd07ef-fe05-47ae-9724-8009f30fd44c",
   "metadata": {},
   "source": [
    "## 병원 등 로그인 X 예약확인 가능\n",
    "- url 포맷 확인하기"
   ]
  },
  {
   "cell_type": "code",
   "execution_count": 3,
   "id": "8fe8858c-0820-48a2-8dc3-ea28f54510d9",
   "metadata": {
    "scrolled": true
   },
   "outputs": [
    {
     "name": "stdout",
     "output_type": "stream",
     "text": [
      "2023-11-16\n"
     ]
    },
    {
     "ename": "NoSuchWindowException",
     "evalue": "Message: no such window: target window already closed\nfrom unknown error: web view not found\n  (Session info: chrome=119.0.6045.123)\nStacktrace:\n0   chromedriver                        0x00000001095fed28 chromedriver + 4795688\n1   chromedriver                        0x00000001095f62b3 chromedriver + 4760243\n2   chromedriver                        0x00000001091cf88d chromedriver + 407693\n3   chromedriver                        0x00000001091a3758 chromedriver + 227160\n4   chromedriver                        0x000000010924b50f chromedriver + 914703\n5   chromedriver                        0x00000001092610e6 chromedriver + 1003750\n6   chromedriver                        0x0000000109245a73 chromedriver + 891507\n7   chromedriver                        0x0000000109210143 chromedriver + 672067\n8   chromedriver                        0x000000010921131e chromedriver + 676638\n9   chromedriver                        0x00000001095bf795 chromedriver + 4536213\n10  chromedriver                        0x00000001095c4853 chromedriver + 4556883\n11  chromedriver                        0x00000001095a5001 chromedriver + 4427777\n12  chromedriver                        0x00000001095c559d chromedriver + 4560285\n13  chromedriver                        0x000000010959648c chromedriver + 4367500\n14  chromedriver                        0x00000001095e50e8 chromedriver + 4690152\n15  chromedriver                        0x00000001095e529e chromedriver + 4690590\n16  chromedriver                        0x00000001095f5eee chromedriver + 4759278\n17  libsystem_pthread.dylib             0x00007ff8199331d3 _pthread_start + 125\n18  libsystem_pthread.dylib             0x00007ff81992ebd3 thread_start + 15\n",
     "output_type": "error",
     "traceback": [
      "\u001b[0;31m---------------------------------------------------------------------------\u001b[0m",
      "\u001b[0;31mNoSuchWindowException\u001b[0m                     Traceback (most recent call last)",
      "Cell \u001b[0;32mIn[3], line 16\u001b[0m\n\u001b[1;32m     13\u001b[0m driver\u001b[38;5;241m.\u001b[39mimplicitly_wait(\u001b[38;5;241m10\u001b[39m)\n\u001b[1;32m     15\u001b[0m time_xpath \u001b[38;5;241m=\u001b[39m \u001b[38;5;124m'\u001b[39m\u001b[38;5;124m//*[@id=\u001b[39m\u001b[38;5;124m\"\u001b[39m\u001b[38;5;124mroot\u001b[39m\u001b[38;5;124m\"\u001b[39m\u001b[38;5;124m]/main/div[3]/section[1]/div/div/div[2]/div\u001b[39m\u001b[38;5;124m'\u001b[39m\n\u001b[0;32m---> 16\u001b[0m calendar_time \u001b[38;5;241m=\u001b[39m \u001b[43mdriver\u001b[49m\u001b[38;5;241;43m.\u001b[39;49m\u001b[43mfind_element\u001b[49m\u001b[43m(\u001b[49m\u001b[43mBy\u001b[49m\u001b[38;5;241;43m.\u001b[39;49m\u001b[43mXPATH\u001b[49m\u001b[43m,\u001b[49m\u001b[43m \u001b[49m\u001b[43mtime_xpath\u001b[49m\u001b[43m)\u001b[49m\n\u001b[1;32m     17\u001b[0m \u001b[38;5;28;01mif\u001b[39;00m \u001b[38;5;124m\"\u001b[39m\u001b[38;5;124malert_box\u001b[39m\u001b[38;5;124m\"\u001b[39m \u001b[38;5;129;01min\u001b[39;00m calendar_time\u001b[38;5;241m.\u001b[39mget_attribute(\u001b[38;5;124m\"\u001b[39m\u001b[38;5;124mclass\u001b[39m\u001b[38;5;124m\"\u001b[39m):\n\u001b[1;32m     18\u001b[0m     \u001b[38;5;28;01mcontinue\u001b[39;00m\n",
      "File \u001b[0;32m/usr/local/lib/python3.11/site-packages/selenium/webdriver/remote/webdriver.py:738\u001b[0m, in \u001b[0;36mWebDriver.find_element\u001b[0;34m(self, by, value)\u001b[0m\n\u001b[1;32m    735\u001b[0m     by \u001b[38;5;241m=\u001b[39m By\u001b[38;5;241m.\u001b[39mCSS_SELECTOR\n\u001b[1;32m    736\u001b[0m     value \u001b[38;5;241m=\u001b[39m \u001b[38;5;124mf\u001b[39m\u001b[38;5;124m'\u001b[39m\u001b[38;5;124m[name=\u001b[39m\u001b[38;5;124m\"\u001b[39m\u001b[38;5;132;01m{\u001b[39;00mvalue\u001b[38;5;132;01m}\u001b[39;00m\u001b[38;5;124m\"\u001b[39m\u001b[38;5;124m]\u001b[39m\u001b[38;5;124m'\u001b[39m\n\u001b[0;32m--> 738\u001b[0m \u001b[38;5;28;01mreturn\u001b[39;00m \u001b[38;5;28;43mself\u001b[39;49m\u001b[38;5;241;43m.\u001b[39;49m\u001b[43mexecute\u001b[49m\u001b[43m(\u001b[49m\u001b[43mCommand\u001b[49m\u001b[38;5;241;43m.\u001b[39;49m\u001b[43mFIND_ELEMENT\u001b[49m\u001b[43m,\u001b[49m\u001b[43m \u001b[49m\u001b[43m{\u001b[49m\u001b[38;5;124;43m\"\u001b[39;49m\u001b[38;5;124;43musing\u001b[39;49m\u001b[38;5;124;43m\"\u001b[39;49m\u001b[43m:\u001b[49m\u001b[43m \u001b[49m\u001b[43mby\u001b[49m\u001b[43m,\u001b[49m\u001b[43m \u001b[49m\u001b[38;5;124;43m\"\u001b[39;49m\u001b[38;5;124;43mvalue\u001b[39;49m\u001b[38;5;124;43m\"\u001b[39;49m\u001b[43m:\u001b[49m\u001b[43m \u001b[49m\u001b[43mvalue\u001b[49m\u001b[43m}\u001b[49m\u001b[43m)\u001b[49m[\u001b[38;5;124m\"\u001b[39m\u001b[38;5;124mvalue\u001b[39m\u001b[38;5;124m\"\u001b[39m]\n",
      "File \u001b[0;32m/usr/local/lib/python3.11/site-packages/selenium/webdriver/remote/webdriver.py:344\u001b[0m, in \u001b[0;36mWebDriver.execute\u001b[0;34m(self, driver_command, params)\u001b[0m\n\u001b[1;32m    342\u001b[0m response \u001b[38;5;241m=\u001b[39m \u001b[38;5;28mself\u001b[39m\u001b[38;5;241m.\u001b[39mcommand_executor\u001b[38;5;241m.\u001b[39mexecute(driver_command, params)\n\u001b[1;32m    343\u001b[0m \u001b[38;5;28;01mif\u001b[39;00m response:\n\u001b[0;32m--> 344\u001b[0m     \u001b[38;5;28;43mself\u001b[39;49m\u001b[38;5;241;43m.\u001b[39;49m\u001b[43merror_handler\u001b[49m\u001b[38;5;241;43m.\u001b[39;49m\u001b[43mcheck_response\u001b[49m\u001b[43m(\u001b[49m\u001b[43mresponse\u001b[49m\u001b[43m)\u001b[49m\n\u001b[1;32m    345\u001b[0m     response[\u001b[38;5;124m\"\u001b[39m\u001b[38;5;124mvalue\u001b[39m\u001b[38;5;124m\"\u001b[39m] \u001b[38;5;241m=\u001b[39m \u001b[38;5;28mself\u001b[39m\u001b[38;5;241m.\u001b[39m_unwrap_value(response\u001b[38;5;241m.\u001b[39mget(\u001b[38;5;124m\"\u001b[39m\u001b[38;5;124mvalue\u001b[39m\u001b[38;5;124m\"\u001b[39m, \u001b[38;5;28;01mNone\u001b[39;00m))\n\u001b[1;32m    346\u001b[0m     \u001b[38;5;28;01mreturn\u001b[39;00m response\n",
      "File \u001b[0;32m/usr/local/lib/python3.11/site-packages/selenium/webdriver/remote/errorhandler.py:229\u001b[0m, in \u001b[0;36mErrorHandler.check_response\u001b[0;34m(self, response)\u001b[0m\n\u001b[1;32m    227\u001b[0m         alert_text \u001b[38;5;241m=\u001b[39m value[\u001b[38;5;124m\"\u001b[39m\u001b[38;5;124malert\u001b[39m\u001b[38;5;124m\"\u001b[39m]\u001b[38;5;241m.\u001b[39mget(\u001b[38;5;124m\"\u001b[39m\u001b[38;5;124mtext\u001b[39m\u001b[38;5;124m\"\u001b[39m)\n\u001b[1;32m    228\u001b[0m     \u001b[38;5;28;01mraise\u001b[39;00m exception_class(message, screen, stacktrace, alert_text)  \u001b[38;5;66;03m# type: ignore[call-arg]  # mypy is not smart enough here\u001b[39;00m\n\u001b[0;32m--> 229\u001b[0m \u001b[38;5;28;01mraise\u001b[39;00m exception_class(message, screen, stacktrace)\n",
      "\u001b[0;31mNoSuchWindowException\u001b[0m: Message: no such window: target window already closed\nfrom unknown error: web view not found\n  (Session info: chrome=119.0.6045.123)\nStacktrace:\n0   chromedriver                        0x00000001095fed28 chromedriver + 4795688\n1   chromedriver                        0x00000001095f62b3 chromedriver + 4760243\n2   chromedriver                        0x00000001091cf88d chromedriver + 407693\n3   chromedriver                        0x00000001091a3758 chromedriver + 227160\n4   chromedriver                        0x000000010924b50f chromedriver + 914703\n5   chromedriver                        0x00000001092610e6 chromedriver + 1003750\n6   chromedriver                        0x0000000109245a73 chromedriver + 891507\n7   chromedriver                        0x0000000109210143 chromedriver + 672067\n8   chromedriver                        0x000000010921131e chromedriver + 676638\n9   chromedriver                        0x00000001095bf795 chromedriver + 4536213\n10  chromedriver                        0x00000001095c4853 chromedriver + 4556883\n11  chromedriver                        0x00000001095a5001 chromedriver + 4427777\n12  chromedriver                        0x00000001095c559d chromedriver + 4560285\n13  chromedriver                        0x000000010959648c chromedriver + 4367500\n14  chromedriver                        0x00000001095e50e8 chromedriver + 4690152\n15  chromedriver                        0x00000001095e529e chromedriver + 4690590\n16  chromedriver                        0x00000001095f5eee chromedriver + 4759278\n17  libsystem_pthread.dylib             0x00007ff8199331d3 _pthread_start + 125\n18  libsystem_pthread.dylib             0x00007ff81992ebd3 thread_start + 15\n"
     ]
    }
   ],
   "source": [
    "with webdriver.Chrome(service=Service(ChromeDriverManager().install())) as driver:\n",
    "    url = \"https://m.booking.naver.com/booking/13/bizes/357208/items/4096831?startDateTime={}\"\n",
    "    today = dt.date.today()\n",
    "    lastday = dt.date(2024, 3, 1)\n",
    "\n",
    "    curday = today\n",
    "    while (lastday - curday) != dt.timedelta(days=0):\n",
    "        day_str = f\"{curday.year}-{curday.month}-{curday.day}\"\n",
    "        print(day_str)\n",
    "        driver.get(url.format(day_str))\n",
    "        time.sleep(1)\n",
    "        curday += dt.timedelta(days=1)\n",
    "        driver.implicitly_wait(10)\n",
    "\n",
    "        time_xpath = '//*[@id=\"root\"]/main/div[3]/section[1]/div/div/div[2]/div'\n",
    "        calendar_time = driver.find_element(By.XPATH, time_xpath)\n",
    "        if \"alert_box\" in calendar_time.get_attribute(\"class\"):\n",
    "            continue\n",
    "        time_elems = calendar_time.find_elements(By.XPATH, \"*\")\n",
    "\n",
    "        time_prefix = \"\"\n",
    "        for elem in time_elems:\n",
    "            if elem.tag_name == \"div\":\n",
    "                time_prefix = elem.text\n",
    "            else:\n",
    "                # print(f\"({time_prefix})\")\n",
    "                times = elem.find_elements(By.CLASS_NAME, \"btn_time\")\n",
    "                for t in times:\n",
    "                    if t.is_enabled():\n",
    "                        print(f\"{time_prefix} {t.text} 가능합니다.\")\n",
    "                    # else :\n",
    "                    # print(f'{t.text} 불가능합니다.')"
   ]
  },
  {
   "cell_type": "markdown",
   "id": "4fd2be06-67d0-4d66-8ff9-2493d18ac7c9",
   "metadata": {},
   "source": [
    "## 음식점 등 로그인 해야 확인 가능한 페이지"
   ]
  },
  {
   "cell_type": "code",
   "execution_count": 9,
   "id": "778f0d17-1ef4-4bbd-a5b8-9a3856c4367e",
   "metadata": {},
   "outputs": [
    {
     "name": "stdout",
     "output_type": "stream",
     "text": [
      "2023-11-16\n"
     ]
    },
    {
     "ename": "NoSuchElementException",
     "evalue": "Message: no such element: Unable to locate element: {\"method\":\"xpath\",\"selector\":\"//*[@id=\"root\"]/main/div[3]/section[1]/div/div/div[2]/div\"}\n  (Session info: chrome=119.0.6045.123); For documentation on this error, please visit: https://www.selenium.dev/documentation/webdriver/troubleshooting/errors#no-such-element-exception\nStacktrace:\n0   chromedriver                        0x000000010466cd28 chromedriver + 4795688\n1   chromedriver                        0x00000001046642b3 chromedriver + 4760243\n2   chromedriver                        0x000000010423d88d chromedriver + 407693\n3   chromedriver                        0x000000010428c3d9 chromedriver + 730073\n4   chromedriver                        0x000000010428c591 chromedriver + 730513\n5   chromedriver                        0x00000001042d27e4 chromedriver + 1017828\n6   chromedriver                        0x00000001042b3ccd chromedriver + 892109\n7   chromedriver                        0x00000001042cfb2b chromedriver + 1006379\n8   chromedriver                        0x00000001042b3a73 chromedriver + 891507\n9   chromedriver                        0x000000010427e143 chromedriver + 672067\n10  chromedriver                        0x000000010427f31e chromedriver + 676638\n11  chromedriver                        0x000000010462d795 chromedriver + 4536213\n12  chromedriver                        0x0000000104632853 chromedriver + 4556883\n13  chromedriver                        0x0000000104613001 chromedriver + 4427777\n14  chromedriver                        0x000000010463359d chromedriver + 4560285\n15  chromedriver                        0x000000010460448c chromedriver + 4367500\n16  chromedriver                        0x00000001046530e8 chromedriver + 4690152\n17  chromedriver                        0x000000010465329e chromedriver + 4690590\n18  chromedriver                        0x0000000104663eee chromedriver + 4759278\n19  libsystem_pthread.dylib             0x00007ff8199331d3 _pthread_start + 125\n20  libsystem_pthread.dylib             0x00007ff81992ebd3 thread_start + 15\n",
     "output_type": "error",
     "traceback": [
      "\u001b[0;31m---------------------------------------------------------------------------\u001b[0m",
      "\u001b[0;31mNoSuchElementException\u001b[0m                    Traceback (most recent call last)",
      "Cell \u001b[0;32mIn[9], line 46\u001b[0m\n\u001b[1;32m     43\u001b[0m driver\u001b[38;5;241m.\u001b[39mimplicitly_wait(\u001b[38;5;241m10\u001b[39m)\n\u001b[1;32m     45\u001b[0m time_xpath \u001b[38;5;241m=\u001b[39m \u001b[38;5;124m'\u001b[39m\u001b[38;5;124m//*[@id=\u001b[39m\u001b[38;5;124m\"\u001b[39m\u001b[38;5;124mroot\u001b[39m\u001b[38;5;124m\"\u001b[39m\u001b[38;5;124m]/main/div[3]/section[1]/div/div/div[2]/div\u001b[39m\u001b[38;5;124m'\u001b[39m\n\u001b[0;32m---> 46\u001b[0m calendar_time \u001b[38;5;241m=\u001b[39m \u001b[43mdriver\u001b[49m\u001b[38;5;241;43m.\u001b[39;49m\u001b[43mfind_element\u001b[49m\u001b[43m(\u001b[49m\u001b[43mBy\u001b[49m\u001b[38;5;241;43m.\u001b[39;49m\u001b[43mXPATH\u001b[49m\u001b[43m,\u001b[49m\u001b[43m \u001b[49m\u001b[43mtime_xpath\u001b[49m\u001b[43m)\u001b[49m\n\u001b[1;32m     47\u001b[0m \u001b[38;5;28;01mif\u001b[39;00m \u001b[38;5;124m\"\u001b[39m\u001b[38;5;124malert_box\u001b[39m\u001b[38;5;124m\"\u001b[39m \u001b[38;5;129;01min\u001b[39;00m calendar_time\u001b[38;5;241m.\u001b[39mget_attribute(\u001b[38;5;124m\"\u001b[39m\u001b[38;5;124mclass\u001b[39m\u001b[38;5;124m\"\u001b[39m):\n\u001b[1;32m     48\u001b[0m     \u001b[38;5;28;01mcontinue\u001b[39;00m\n",
      "File \u001b[0;32m/usr/local/lib/python3.11/site-packages/selenium/webdriver/remote/webdriver.py:738\u001b[0m, in \u001b[0;36mWebDriver.find_element\u001b[0;34m(self, by, value)\u001b[0m\n\u001b[1;32m    735\u001b[0m     by \u001b[38;5;241m=\u001b[39m By\u001b[38;5;241m.\u001b[39mCSS_SELECTOR\n\u001b[1;32m    736\u001b[0m     value \u001b[38;5;241m=\u001b[39m \u001b[38;5;124mf\u001b[39m\u001b[38;5;124m'\u001b[39m\u001b[38;5;124m[name=\u001b[39m\u001b[38;5;124m\"\u001b[39m\u001b[38;5;132;01m{\u001b[39;00mvalue\u001b[38;5;132;01m}\u001b[39;00m\u001b[38;5;124m\"\u001b[39m\u001b[38;5;124m]\u001b[39m\u001b[38;5;124m'\u001b[39m\n\u001b[0;32m--> 738\u001b[0m \u001b[38;5;28;01mreturn\u001b[39;00m \u001b[38;5;28;43mself\u001b[39;49m\u001b[38;5;241;43m.\u001b[39;49m\u001b[43mexecute\u001b[49m\u001b[43m(\u001b[49m\u001b[43mCommand\u001b[49m\u001b[38;5;241;43m.\u001b[39;49m\u001b[43mFIND_ELEMENT\u001b[49m\u001b[43m,\u001b[49m\u001b[43m \u001b[49m\u001b[43m{\u001b[49m\u001b[38;5;124;43m\"\u001b[39;49m\u001b[38;5;124;43musing\u001b[39;49m\u001b[38;5;124;43m\"\u001b[39;49m\u001b[43m:\u001b[49m\u001b[43m \u001b[49m\u001b[43mby\u001b[49m\u001b[43m,\u001b[49m\u001b[43m \u001b[49m\u001b[38;5;124;43m\"\u001b[39;49m\u001b[38;5;124;43mvalue\u001b[39;49m\u001b[38;5;124;43m\"\u001b[39;49m\u001b[43m:\u001b[49m\u001b[43m \u001b[49m\u001b[43mvalue\u001b[49m\u001b[43m}\u001b[49m\u001b[43m)\u001b[49m[\u001b[38;5;124m\"\u001b[39m\u001b[38;5;124mvalue\u001b[39m\u001b[38;5;124m\"\u001b[39m]\n",
      "File \u001b[0;32m/usr/local/lib/python3.11/site-packages/selenium/webdriver/remote/webdriver.py:344\u001b[0m, in \u001b[0;36mWebDriver.execute\u001b[0;34m(self, driver_command, params)\u001b[0m\n\u001b[1;32m    342\u001b[0m response \u001b[38;5;241m=\u001b[39m \u001b[38;5;28mself\u001b[39m\u001b[38;5;241m.\u001b[39mcommand_executor\u001b[38;5;241m.\u001b[39mexecute(driver_command, params)\n\u001b[1;32m    343\u001b[0m \u001b[38;5;28;01mif\u001b[39;00m response:\n\u001b[0;32m--> 344\u001b[0m     \u001b[38;5;28;43mself\u001b[39;49m\u001b[38;5;241;43m.\u001b[39;49m\u001b[43merror_handler\u001b[49m\u001b[38;5;241;43m.\u001b[39;49m\u001b[43mcheck_response\u001b[49m\u001b[43m(\u001b[49m\u001b[43mresponse\u001b[49m\u001b[43m)\u001b[49m\n\u001b[1;32m    345\u001b[0m     response[\u001b[38;5;124m\"\u001b[39m\u001b[38;5;124mvalue\u001b[39m\u001b[38;5;124m\"\u001b[39m] \u001b[38;5;241m=\u001b[39m \u001b[38;5;28mself\u001b[39m\u001b[38;5;241m.\u001b[39m_unwrap_value(response\u001b[38;5;241m.\u001b[39mget(\u001b[38;5;124m\"\u001b[39m\u001b[38;5;124mvalue\u001b[39m\u001b[38;5;124m\"\u001b[39m, \u001b[38;5;28;01mNone\u001b[39;00m))\n\u001b[1;32m    346\u001b[0m     \u001b[38;5;28;01mreturn\u001b[39;00m response\n",
      "File \u001b[0;32m/usr/local/lib/python3.11/site-packages/selenium/webdriver/remote/errorhandler.py:229\u001b[0m, in \u001b[0;36mErrorHandler.check_response\u001b[0;34m(self, response)\u001b[0m\n\u001b[1;32m    227\u001b[0m         alert_text \u001b[38;5;241m=\u001b[39m value[\u001b[38;5;124m\"\u001b[39m\u001b[38;5;124malert\u001b[39m\u001b[38;5;124m\"\u001b[39m]\u001b[38;5;241m.\u001b[39mget(\u001b[38;5;124m\"\u001b[39m\u001b[38;5;124mtext\u001b[39m\u001b[38;5;124m\"\u001b[39m)\n\u001b[1;32m    228\u001b[0m     \u001b[38;5;28;01mraise\u001b[39;00m exception_class(message, screen, stacktrace, alert_text)  \u001b[38;5;66;03m# type: ignore[call-arg]  # mypy is not smart enough here\u001b[39;00m\n\u001b[0;32m--> 229\u001b[0m \u001b[38;5;28;01mraise\u001b[39;00m exception_class(message, screen, stacktrace)\n",
      "\u001b[0;31mNoSuchElementException\u001b[0m: Message: no such element: Unable to locate element: {\"method\":\"xpath\",\"selector\":\"//*[@id=\"root\"]/main/div[3]/section[1]/div/div/div[2]/div\"}\n  (Session info: chrome=119.0.6045.123); For documentation on this error, please visit: https://www.selenium.dev/documentation/webdriver/troubleshooting/errors#no-such-element-exception\nStacktrace:\n0   chromedriver                        0x000000010466cd28 chromedriver + 4795688\n1   chromedriver                        0x00000001046642b3 chromedriver + 4760243\n2   chromedriver                        0x000000010423d88d chromedriver + 407693\n3   chromedriver                        0x000000010428c3d9 chromedriver + 730073\n4   chromedriver                        0x000000010428c591 chromedriver + 730513\n5   chromedriver                        0x00000001042d27e4 chromedriver + 1017828\n6   chromedriver                        0x00000001042b3ccd chromedriver + 892109\n7   chromedriver                        0x00000001042cfb2b chromedriver + 1006379\n8   chromedriver                        0x00000001042b3a73 chromedriver + 891507\n9   chromedriver                        0x000000010427e143 chromedriver + 672067\n10  chromedriver                        0x000000010427f31e chromedriver + 676638\n11  chromedriver                        0x000000010462d795 chromedriver + 4536213\n12  chromedriver                        0x0000000104632853 chromedriver + 4556883\n13  chromedriver                        0x0000000104613001 chromedriver + 4427777\n14  chromedriver                        0x000000010463359d chromedriver + 4560285\n15  chromedriver                        0x000000010460448c chromedriver + 4367500\n16  chromedriver                        0x00000001046530e8 chromedriver + 4690152\n17  chromedriver                        0x000000010465329e chromedriver + 4690590\n18  chromedriver                        0x0000000104663eee chromedriver + 4759278\n19  libsystem_pthread.dylib             0x00007ff8199331d3 _pthread_start + 125\n20  libsystem_pthread.dylib             0x00007ff81992ebd3 thread_start + 15\n"
     ]
    }
   ],
   "source": [
    "with webdriver.Chrome(service=Service(ChromeDriverManager().install())) as driver:\n",
    "    url = \"https://m.booking.naver.com/booking/6/bizes/90504/items/2587065?startDateTime={}\"\n",
    "    today = dt.date.today()\n",
    "    lastday = dt.date(2024, 3, 1)\n",
    "\n",
    "    driver.get(url.format(today))\n",
    "    time.sleep(3)\n",
    "    # login page\n",
    "    user_id = \"seorim95\"\n",
    "    user_pw = \"tJffpdla@56\"\n",
    "\n",
    "    id_input_path = '//*[@id=\"id\"]'\n",
    "    pw_input_path = '//*[@id=\"pw\"]'\n",
    "    btn_path = '//*[@id=\"log.login\"]'\n",
    "\n",
    "    id_input = driver.find_element(By.XPATH, id_input_path)\n",
    "    pw_input = driver.find_element(By.XPATH, pw_input_path)\n",
    "    btn = driver.find_element(By.XPATH, btn_path)\n",
    "\n",
    "    # id\n",
    "    id_input.click()\n",
    "    pyperclip.copy('seorim95')\n",
    "    pyautogui.hotkey(\"command\", \"v\")\n",
    "    time.sleep(2)\n",
    "\n",
    "    # pw\n",
    "    pw_input.click()\n",
    "    pyperclip.copy('tJffpdla@56')\n",
    "    pyautogui.hotkey(\"command\", \"v\")\n",
    "    time.sleep(3)\n",
    "\n",
    "    # login button click\n",
    "    btn.click()\n",
    "    time.sleep(20)\n",
    "\n",
    "    curday = today\n",
    "    while (lastday - curday) != dt.timedelta(days=0):\n",
    "        day_str = f\"{curday.year}-{curday.month}-{curday.day}\"\n",
    "        print(day_str)\n",
    "        driver.get(url.format(day_str))\n",
    "        time.sleep(1)\n",
    "        curday += dt.timedelta(days=1)\n",
    "        driver.implicitly_wait(10)\n",
    "\n",
    "        time_xpath = '//*[@id=\"root\"]/main/div[3]/section[1]/div/div/div[2]/div'\n",
    "        calendar_time = driver.find_element(By.XPATH, time_xpath)\n",
    "        if \"alert_box\" in calendar_time.get_attribute(\"class\"):\n",
    "            continue\n",
    "        time_elems = calendar_time.find_elements(By.XPATH, \"*\")\n",
    "\n",
    "        time_prefix = \"\"\n",
    "        for elem in time_elems:\n",
    "            if elem.tag_name == \"div\":\n",
    "                time_prefix = elem.text\n",
    "            else:\n",
    "                # print(f\"({time_prefix})\")\n",
    "                times = elem.find_elements(By.CLASS_NAME, \"btn_time\")\n",
    "                for t in times:\n",
    "                    if t.is_enabled():\n",
    "                        print(f\"{time_prefix} {t.text} 가능합니다.\")\n",
    "                    # else :\n",
    "                    # print(f'{t.text} 불가능합니다.')"
   ]
  },
  {
   "cell_type": "code",
   "execution_count": null,
   "id": "67682c3f-4946-4fcb-b171-9989995987b6",
   "metadata": {},
   "outputs": [],
   "source": []
  }
 ],
 "metadata": {
  "kernelspec": {
   "display_name": "Python 3 (ipykernel)",
   "language": "python",
   "name": "python3"
  },
  "language_info": {
   "codemirror_mode": {
    "name": "ipython",
    "version": 3
   },
   "file_extension": ".py",
   "mimetype": "text/x-python",
   "name": "python",
   "nbconvert_exporter": "python",
   "pygments_lexer": "ipython3",
   "version": "3.11.6"
  }
 },
 "nbformat": 4,
 "nbformat_minor": 5
}
