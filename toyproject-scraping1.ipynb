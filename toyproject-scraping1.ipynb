{
 "cells": [
  {
   "cell_type": "markdown",
   "id": "fe227cc5-e615-4e3e-95d6-e3944056b97f",
   "metadata": {},
   "source": [
    "# KBO 홈페이지 스크래핑\n",
    "- Selenium 활용\n",
    "- 주어진 선수의 스탯을 가져오는 코드\n",
    "- 추가로 아마선수들 사이트 [대한야구소프트볼협회](http://www.korea-baseball.com/) 에서도 스탯 가져와보기"
   ]
  },
  {
   "cell_type": "code",
   "execution_count": 1,
   "id": "7ff14759-bf81-4d2f-847e-2de899bb7914",
   "metadata": {},
   "outputs": [],
   "source": [
    "from selenium import webdriver\n",
    "from selenium.webdriver import ActionChains, Keys\n",
    "from selenium.webdriver.chrome.service import Service\n",
    "from selenium.webdriver.common.actions.action_builder import ActionBuilder\n",
    "from selenium.webdriver.common.by import By\n",
    "from webdriver_manager.chrome import ChromeDriverManager\n",
    "import time"
   ]
  },
  {
   "cell_type": "markdown",
   "id": "89573769-4c0c-4b91-8ff9-c20c3b132313",
   "metadata": {},
   "source": [
    "로그인 페이지 url을 기본으로 세팅해 로그인 진행\n",
    "\n",
    "<https://www.koreabaseball.com/Member/Login.aspx>"
   ]
  },
  {
   "cell_type": "code",
   "execution_count": 2,
   "id": "09b08042-82a7-45be-9ff7-8b4bad276add",
   "metadata": {},
   "outputs": [
    {
     "ename": "TypeError",
     "evalue": "'str' object is not callable",
     "output_type": "error",
     "traceback": [
      "\u001b[0;31m---------------------------------------------------------------------------\u001b[0m",
      "\u001b[0;31mTypeError\u001b[0m                                 Traceback (most recent call last)",
      "Cell \u001b[0;32mIn[2], line 6\u001b[0m\n\u001b[1;32m      4\u001b[0m driver\u001b[38;5;241m.\u001b[39mget(url)\n\u001b[1;32m      5\u001b[0m time\u001b[38;5;241m.\u001b[39msleep(\u001b[38;5;241m1\u001b[39m)\n\u001b[0;32m----> 6\u001b[0m \u001b[43mdriver\u001b[49m\u001b[38;5;241;43m.\u001b[39;49m\u001b[43mpage_source\u001b[49m\u001b[43m(\u001b[49m\u001b[43m)\u001b[49m\n",
      "\u001b[0;31mTypeError\u001b[0m: 'str' object is not callable"
     ]
    }
   ],
   "source": [
    "url = \"https://www.koreabaseball.com/Member/Login.aspx\"\n",
    "\n",
    "driver = webdriver.Chrome(service = Service(ChromeDriverManager().install()))\n",
    "driver.get(url)\n",
    "time.sleep(1)\n",
    "\n",
    "id_path = '//*[@id=\"cphContents_cphContents_cphContents_txtUserId\"]'\n",
    "id_input = driver.find_element(By.XPATH, id_path)\n",
    "ActionChains(driver).send_keys_to_element(id_input, \"imsolem1226\").perform()\n",
    "time.sleep(1)\n",
    "pw_path = '//*[@id=\"cphContents_cphContents_cphContents_txtPassWord\"]'\n",
    "pw_input = driver.find_element(By.XPATH, pw_path)\n",
    "ActionChains(driver).send_keys_to_element(pw_input, \"Tjffpdla@56\").perform()\n",
    "time.sleep(1)\n",
    "\n",
    "login_button = driver.find_element(By.CLASS_NAME, \"btnLogin\")\n",
    "ActionChains(driver).click(login_button).perform()\n",
    "time.sleep(1)\n"
   ]
  },
  {
   "cell_type": "code",
   "execution_count": 4,
   "id": "eaf01dcf-582e-44de-880f-355cd5929c92",
   "metadata": {},
   "outputs": [
    {
     "name": "stdout",
     "output_type": "stream",
     "text": [
      "Knock Live Rock band\n"
     ]
    }
   ],
   "source": [
    "# 10초동안 Implicit Wait을 진행하도록 해서 스크래핑이 잘 이루어지도록 수정해봅시다.\n",
    "from selenium.webdriver.support.ui import WebDriverWait\n",
    "\n",
    "url = \"https://indistreet.com/live?sortOption=startDate%3AASC\"\n",
    "path = '//*[@id=\"__next\"]/div/main/div[2]/div/div[4]/div[1]/div[1]/div/a/div[2]/p[1]'\n",
    "with webdriver.Chrome(service = Service(ChromeDriverManager().install())) as driver:\n",
    "    driver.get(url)\n",
    "    # 10초까지 기다려보는데, 그 전에 완전한 응답이 왔으면 다음 실행\n",
    "    driver.implicitly_wait(10)\n",
    "    print(driver.find_element(By.XPATH, path).text)\n",
    "    "
   ]
  },
  {
   "cell_type": "markdown",
   "id": "8658c7a5-8e1a-4c2c-9809-c484705c38f5",
   "metadata": {},
   "source": [
    "## 팝업 처리\n"
   ]
  },
  {
   "cell_type": "code",
   "execution_count": null,
   "id": "573b0eee-8690-4dcb-b041-2c9fba69890f",
   "metadata": {},
   "outputs": [],
   "source": []
  },
  {
   "cell_type": "markdown",
   "id": "4a6ed3ce-6c77-43be-8033-3e86dd99395d",
   "metadata": {},
   "source": [
    "## 선수 이름 검색 (키보드 입력)"
   ]
  },
  {
   "cell_type": "code",
   "execution_count": null,
   "id": "13e888e0-4a2e-4825-b00b-360753a50db4",
   "metadata": {},
   "outputs": [],
   "source": []
  },
  {
   "cell_type": "markdown",
   "id": "1f034f3f-26b1-48b3-83c5-8584b2ed018a",
   "metadata": {},
   "source": [
    "스탯 가져와서 정리하기"
   ]
  }
 ],
 "metadata": {
  "kernelspec": {
   "display_name": "Python 3 (ipykernel)",
   "language": "python",
   "name": "python3"
  },
  "language_info": {
   "codemirror_mode": {
    "name": "ipython",
    "version": 3
   },
   "file_extension": ".py",
   "mimetype": "text/x-python",
   "name": "python",
   "nbconvert_exporter": "python",
   "pygments_lexer": "ipython3",
   "version": "3.11.6"
  }
 },
 "nbformat": 4,
 "nbformat_minor": 5
}
